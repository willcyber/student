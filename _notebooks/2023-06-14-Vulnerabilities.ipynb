{
 "cells": [
  {
   "attachments": {},
   "cell_type": "markdown",
   "metadata": {},
   "source": [
    "---\n",
    "toc: true\n",
    "comments: true\n",
    "layout: post\n",
    "title: Vulnerabilities\n",
    "description: Web exploits and more\n",
    "courses: { csp: {week: 0} }\n",
    "type: hacks\n",
    "---"
   ]
  },
  {
   "attachments": {},
   "cell_type": "markdown",
   "metadata": {},
   "source": [
    "# Overview\n",
    "\n",
    "Making a website is fun and all but if you aren't careful, it may be vulnerable to exploits.\n",
    "Why should you care? Because many of your user's important info like name, email, and dob may be leaked. Accidently leaking info can make people to stray away from using your website. Let's try to not let that happen."
   ]
  },
  {
   "attachments": {},
   "cell_type": "markdown",
   "metadata": {},
   "source": [
    "# Basic Knowledge\n",
    "\n",
    "HTTP: a communication protocol to deliver data over the internet\n",
    "- The client makes a request (ex: POST, GET), server consults database and returns an output\n",
    "\n",
    "Database: collection of information that is organized, where the server can quickly query data and add/delete data\n",
    "- SQL is the language used for managing these databases (which are made up of tables each with data)\n",
    "- Databases store data in the website, such as passwords or FLAGS\n",
    "- SQL syntax: \n",
    "    - SELECT * FROM table_name\n",
    "- Selects all data from specific table (this can be exploited)\n",
    "\n",
    "Proxy: a server that redirects your browsing activity before accessing the web\n",
    "- The web request first gets sent to the proxy and then to the web instead of straight to the web, masking IP address\n",
    "- Also provides a way to edit the request before it leaves (BURP SUITE)\n"
   ]
  },
  {
   "attachments": {},
   "cell_type": "markdown",
   "metadata": {},
   "source": [
    "# Types of Basic Web Exploits\n",
    "\n",
    "## Being an idiot and having sensitive info on html or js\n"
   ]
  },
  {
   "attachments": {},
   "cell_type": "markdown",
   "metadata": {},
   "source": [
    "# Big Boy exploits\n",
    "\n",
    "## SQL Injection\n",
    "\n",
    "## XSS (Cross Site Scripting)\n",
    "\n",
    "## HTTP Proxy"
   ]
  },
  {
   "attachments": {},
   "cell_type": "markdown",
   "metadata": {},
   "source": [
    "# Real life JWT Exploits"
   ]
  },
  {
   "attachments": {},
   "cell_type": "markdown",
   "metadata": {},
   "source": [
    "# Note\n",
    "Most of my knowledge from this blog came from my experience completing web exploit ctf (capture the flag) problems. This is just skimming the surface of web vulnerabilities but I hope it makes you more mindful of your website's security. \n",
    "\n",
    "## Resources\n",
    "- Picoctf\n",
    "- https://portswigger.net/web-security/sql-injection#:~:text=SQL%20injection%20(SQLi)%20is%20a,not%20normally%20able%20to%20retrieve.\n",
    "- Really good youtube SQL Injection vid: https://www.youtube.com/watch?v=2OPVViV-GQk\n",
    "- XSS: https://portswigger.net/web-security/cross-site-scripting\n",
    "- Google :drooling_face:\n"
   ]
  },
  {
   "attachments": {},
   "cell_type": "markdown",
   "metadata": {},
   "source": [
    "# Hacks\n",
    "\n"
   ]
  }
 ],
 "metadata": {
  "kernelspec": {
   "display_name": "Java",
   "language": "java",
   "name": "java"
  },
  "language_info": {
   "name": "java"
  },
  "orig_nbformat": 4
 },
 "nbformat": 4,
 "nbformat_minor": 2
}
