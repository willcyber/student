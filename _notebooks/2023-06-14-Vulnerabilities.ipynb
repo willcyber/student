{
 "cells": [
  {
   "attachments": {},
   "cell_type": "markdown",
   "metadata": {},
   "source": [
    "---\n",
    "toc: true\n",
    "comments: true\n",
    "layout: post\n",
    "title: Vulnerabilities\n",
    "description: Web exploits and more\n",
    "author: William Wu\n",
    "---"
   ]
  },
  {
   "attachments": {},
   "cell_type": "markdown",
   "metadata": {},
   "source": [
    "# Overview\n",
    "\n",
    "Making a website is fun and all but if you aren't careful, it may be vulnerable to exploits.\n",
    "Why should you care? Because many of your user's important info like name, email, and dob may be leaked. Accidently leaking info can make people to stray away from using your website. Let's try to not let that happen."
   ]
  },
  {
   "attachments": {},
   "cell_type": "markdown",
   "metadata": {},
   "source": [
    "# Basic Knowledge\n",
    "\n",
    "HTTP: a communication protocol to deliver data over the internet\n",
    "- The client makes a request (ex: POST, GET), server consults database and returns an output\n",
    "\n",
    "Database: collection of information that is organized, where the server can quickly query data and add/delete data\n",
    "- SQL is the language used for managing these databases (which are made up of tables each with data)\n",
    "- Databases store data in the website, such as passwords or FLAGS\n",
    "- SQL syntax: \n",
    "    - SELECT * FROM table_name\n",
    "- Selects all data from specific table (this can be exploited)\n",
    "\n",
    "Proxy: a server that redirects your browsing activity before accessing the web\n",
    "- The web request first gets sent to the proxy and then to the web instead of straight to the web, masking IP address\n",
    "- Also provides a way to edit the request before it leaves (BURP SUITE)\n"
   ]
  },
  {
   "attachments": {},
   "cell_type": "markdown",
   "metadata": {},
   "source": [
    "# Types of Basic Web Insecurities\n",
    "\n",
    "## Being an idiot and having sensitive info on html or js\n",
    "- Hardcoded Credentials: Storing usernames, passwords, API keys, or other sensitive credentials directly in the source code\n",
    "\n",
    "- Client-Side Storage: Storing sensitive data in client-side storage mechanisms like cookies, local storage, or session storage without proper encryption or security controls is risky. Attackers can manipulate or extract this data using techniques like cross-site scripting (XSS) attacks.\n",
    "\n",
    "- Sensitive info in JS: Including sensitive information within inline JavaScript code can expose it to attackers. Inline scripts can be easily viewed or modified by anyone with access to the page source."
   ]
  },
  {
   "attachments": {},
   "cell_type": "markdown",
   "metadata": {},
   "source": [
    "# Simple fixes (common sense)\n",
    "- Not having important stuff on HTML (encoding it in a cipher doesn't fix)\n",
    "- Proper encryption and configuration of JWT cookies\n",
    "- Not having sensitive info in JS (don't like console.log a cred and stuff duh)"
   ]
  },
  {
   "attachments": {},
   "cell_type": "markdown",
   "metadata": {},
   "source": [
    "# Big Boy exploits\n",
    "\n",
    "## SQL Injection\n",
    "Before you read anything about SQL Injection, make sure you understand everything in the \"Basic Knowledge\" section\n",
    "\n",
    "### Definition\n",
    "SQL injection is a type of web application vulnerability that occurs when an attacker maliciously inserts or \"injects\" unauthorized SQL code into a database query. It takes advantage of improper handling of user-supplied input, typically in a web application that interacts with a database using SQL queries.\n",
    "\n",
    "Confused? Here is an example:\n",
    "\n",
    "### Example\n",
    "\n",
    "Let’s say you want to buy a gift on Amazon and go to this link https://amazon.com/products?category=Gifts\n",
    "\n",
    "This causes the SQL query to retrieve details from the database\n",
    "\n",
    "SELECT * FROM products WHERE category = 'Gifts' AND released = 1\n",
    "\n",
    "Where\n",
    "- \"*\" = everything\n",
    "- Products = table name\n",
    "- The restricts are that the category is ‘Gifts’ and released is equal to 1 (in this example this means the gift is released)\n",
    "\n",
    "Now what if we want to get stuff from the database that isn’t released? How would we bypass the “released=1”?\n",
    "\n",
    "This is where SQL injection comes into play! Before we tackle how to do it, let’s go over some syntax\n",
    "\n",
    "### Syntax\n",
    "\n",
    "- Two dashes (--) is an SQL comment\n",
    "- || is concatenate\n",
    "- SELECT * FROM users WHERE username = 'william' AND password = 'Password1!'\n",
    "    - Stuff between single quotes are strings\n",
    "    - Everything else is an SQL query\n",
    "\n",
    "IMPORTANT\n",
    "- A single quote (‘) helps you break out of a string and write more SQL query!\n",
    "- “AND” statement always runs before “OR” statement \n",
    "\n",
    "Now we are getting into the good stuff\n",
    "\n",
    "### How the attack works\n",
    "\n",
    "OR Payload: \n",
    "\n",
    "Comment Payload: "
   ]
  },
  {
   "attachments": {},
   "cell_type": "markdown",
   "metadata": {},
   "source": [
    "## XSS (Cross Site Scripting)\n",
    "\n",
    "## HTTP Proxy"
   ]
  },
  {
   "attachments": {},
   "cell_type": "markdown",
   "metadata": {},
   "source": [
    "# Real life Spring Boot and Flask Exploits"
   ]
  },
  {
   "attachments": {},
   "cell_type": "markdown",
   "metadata": {},
   "source": [
    "# Note\n",
    "Most of my knowledge from this blog came from my experience completing web exploit ctf (capture the flag) problems. This is just skimming the surface of web vulnerabilities but I hope it makes you more mindful of your website's security. \n",
    "\n",
    "## Resources\n",
    "- Picoctf\n",
    "- https://portswigger.net/web-security/sql-injection#:~:text=SQL%20injection%20(SQLi)%20is%20a,not%20normally%20able%20to%20retrieve.\n",
    "- Really good youtube SQL Injection vid: https://www.youtube.com/watch?v=2OPVViV-GQk\n",
    "- XSS: https://portswigger.net/web-security/cross-site-scripting\n",
    "- Google :drooling_face:\n",
    "- Chatgpt for definitions <3"
   ]
  },
  {
   "attachments": {},
   "cell_type": "markdown",
   "metadata": {},
   "source": [
    "# Hacks\n",
    "\n",
    "1. SQL Inject this site: https://demo.testfire.net/login.jsp\n",
    "\n",
    "\n"
   ]
  }
 ],
 "metadata": {
  "kernelspec": {
   "display_name": "Java",
   "language": "java",
   "name": "java"
  },
  "language_info": {
   "name": "java"
  },
  "orig_nbformat": 4
 },
 "nbformat": 4,
 "nbformat_minor": 2
}
