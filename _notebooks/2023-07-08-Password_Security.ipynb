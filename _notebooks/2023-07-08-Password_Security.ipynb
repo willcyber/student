{
 "cells": [
  {
   "attachments": {},
   "cell_type": "markdown",
   "metadata": {},
   "source": [
    "---\n",
    "toc: true\n",
    "comments: true\n",
    "layout: post\n",
    "title: Password Security\n",
    "description: How to manage secret and password files in application.properties\n",
    "author: William Wu\n",
    "---"
   ]
  },
  {
   "cell_type": "markdown",
   "metadata": {},
   "source": [
    "# Use of Environment Variables\n",
    "\n",
    "Store secret values as environment variables on the server where your application is deployed. Spring Boot can automatically pick up these environment variables and use them as configuration properties. Replace the sensitive values in the application.properties file with placeholders referencing the corresponding environment variables. This will allow credentials to not be leaked when pushing to github.\n",
    "\n",
    "Ex:\n",
    "Instead of "
   ]
  },
  {
   "cell_type": "code",
   "execution_count": null,
   "metadata": {},
   "outputs": [],
   "source": [
    "spring.datasource.password = password123"
   ]
  },
  {
   "cell_type": "markdown",
   "metadata": {},
   "source": [
    "You can instead do this"
   ]
  },
  {
   "cell_type": "code",
   "execution_count": null,
   "metadata": {},
   "outputs": [],
   "source": [
    "spring.datasource.password = ${DB_PASSWORD}"
   ]
  },
  {
   "cell_type": "markdown",
   "metadata": {},
   "source": [
    "and have DB_PASSWORD defined as \"password123\" in the .env file\n",
    "\n",
    "### How to set env file up\n",
    "\n",
    "1. Create a .env file\n",
    "2. Set the variables and values\n",
    "3. Import the dotenv package into the file you want to use the variables\n",
    "4. Use in code as shown above"
   ]
  },
  {
   "cell_type": "markdown",
   "metadata": {},
   "source": [
    "# Secure the Config File\n",
    "You can encrypt sensitive values in config files. Below is one tool that can serve this purpose\n",
    "\n",
    "## Jaspyt\n",
    "\n",
    "How to use:\n",
    "- Add the dependency"
   ]
  },
  {
   "cell_type": "code",
   "execution_count": null,
   "metadata": {},
   "outputs": [],
   "source": [
    "<dependency>\n",
    "    <groupId>org.jasypt</groupId>\n",
    "    <artifactId>jasypt-spring-boot-starter</artifactId>\n",
    "    <version>3.0.3</version>\n",
    "</dependency>\n"
   ]
  },
  {
   "cell_type": "markdown",
   "metadata": {},
   "source": [
    "- Define Encryption Configuration\n",
    "\n",
    "Set the following in application.properties or application.yml"
   ]
  },
  {
   "cell_type": "code",
   "execution_count": null,
   "metadata": {},
   "outputs": [],
   "source": [
    "jasypt.encryptor.password=your-encryption-password"
   ]
  },
  {
   "cell_type": "markdown",
   "metadata": {},
   "source": [
    "Where \"your-encryption-password\" is your encryption password.\n",
    "\n",
    "- Encrypt in application.properties or application.yml"
   ]
  },
  {
   "cell_type": "code",
   "execution_count": null,
   "metadata": {},
   "outputs": [],
   "source": [
    "db.password=ENC(mysecretpassword)\n",
    "\n",
    "try:\n",
    "    with open(f\"{apk_file}.json\", \"w\", encoding=\"utf-8\") as json_file:\n",
    "        json_file.write(result_json)\n",
    "except Exception as e:\n",
    "    print(f\"Error while saving JSON file: {str(e)}\")"
   ]
  },
  {
   "cell_type": "markdown",
   "metadata": {},
   "source": [
    "where the ENC prefix is encrypting the password\n",
    "\n",
    "- Use Spring as normal. It will automatically decrypt the credentials when needed"
   ]
  },
  {
   "cell_type": "markdown",
   "metadata": {},
   "source": [
    "## Resources\n",
    "\n",
    "- Chatgpt\n",
    "- Google\n",
    "- [Jaspyt](https://www.baeldung.com/spring-boot-jasypt)"
   ]
  }
 ],
 "metadata": {
  "kernelspec": {
   "display_name": "Java",
   "language": "java",
   "name": "java"
  },
  "language_info": {
   "name": "java"
  },
  "orig_nbformat": 4
 },
 "nbformat": 4,
 "nbformat_minor": 2
}
