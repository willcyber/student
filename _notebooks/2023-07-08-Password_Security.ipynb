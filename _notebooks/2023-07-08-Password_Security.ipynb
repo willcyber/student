{
 "cells": [
  {
   "attachments": {},
   "cell_type": "markdown",
   "metadata": {},
   "source": [
    "---\n",
    "toc: true\n",
    "comments: true\n",
    "layout: post\n",
    "title: Password Security\n",
    "description: How to manage secret and password files in application.properties\n",
    "author: William Wu\n",
    "---"
   ]
  },
  {
   "cell_type": "markdown",
   "metadata": {},
   "source": [
    "# How to secure\n",
    "\n",
    "## Use of Environment Variables\n",
    "\n",
    "## Secure the Config File\n",
    "\n",
    "## Secrets Management Tools"
   ]
  }
 ],
 "metadata": {
  "language_info": {
   "name": "python"
  },
  "orig_nbformat": 4
 },
 "nbformat": 4,
 "nbformat_minor": 2
}
